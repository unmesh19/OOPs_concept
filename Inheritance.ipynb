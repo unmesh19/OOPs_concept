{
 "cells": [
  {
   "cell_type": "code",
   "execution_count": 1,
   "id": "976ef782-3664-44b2-a447-d173ce5e491b",
   "metadata": {},
   "outputs": [],
   "source": [
    "class Animal:\n",
    "    def __init__(self, species, sound, age, colour):\n",
    "        self.species = species\n",
    "        self.sound = sound\n",
    "        self.age = age\n",
    "        self.colour = colour\n",
    "\n",
    "    def make_sound(self):\n",
    "        return f\"The {self.species} makes {self.sound} sound\""
   ]
  },
  {
   "cell_type": "code",
   "execution_count": 2,
   "id": "65818f2b-0517-4b70-a897-efe2444e2b5f",
   "metadata": {},
   "outputs": [],
   "source": [
    "class WildAnimal(Animal):\n",
    "    def __init__(self, species, sound, age, colour, habitat):\n",
    "        super().__init__(species, sound, age, colour)\n",
    "        self.habitat = habitat\n",
    "\n",
    "    def describe(self):\n",
    "        return f\"This is a {self.colour} {self.species} that goes {self.sound} and is {self.age} years old, and lives in {self.habitat}\""
   ]
  },
  {
   "cell_type": "code",
   "execution_count": 3,
   "id": "5d81f1bf-7390-449a-b3ac-85c27073025a",
   "metadata": {},
   "outputs": [
    {
     "data": {
      "text/plain": [
       "'This is a Yellow Lion that goes roar and is 15 years old, and lives in Jungle'"
      ]
     },
     "execution_count": 3,
     "metadata": {},
     "output_type": "execute_result"
    }
   ],
   "source": [
    "wildanimal1 = WildAnimal(\"Lion\", \"roar\", 15, \"Yellow\", \"Jungle\")\n",
    "wildanimal1.describe()"
   ]
  },
  {
   "cell_type": "code",
   "execution_count": 4,
   "id": "473d0c9c-bbb2-457f-94a2-32b087860f80",
   "metadata": {},
   "outputs": [],
   "source": [
    "class Bird(Animal):\n",
    "    def __init__(self, species, sound, age, colour, wing_span):\n",
    "        super().__init__(species, sound, age, colour)\n",
    "        self.wing_span = wing_span\n",
    "\n",
    "    def describe(self):\n",
    "        return f\"This is a {self.colour} {self.species} that goes {self.sound} and is {self.age} years old, and has a wing span of {self.wing_span}\""
   ]
  },
  {
   "cell_type": "code",
   "execution_count": 5,
   "id": "b59a1c23-a7a5-48e7-b209-33895c9e11f2",
   "metadata": {},
   "outputs": [
    {
     "data": {
      "text/plain": [
       "'This is a Green Parrot that goes squawk and is 5 years old, and has a wing span of 25 cm'"
      ]
     },
     "execution_count": 5,
     "metadata": {},
     "output_type": "execute_result"
    }
   ],
   "source": [
    "bird1 = Bird(\"Parrot\", \"squawk\", 5, \"Green\", \"25 cm\")\n",
    "bird1.describe()"
   ]
  },
  {
   "cell_type": "code",
   "execution_count": 6,
   "id": "d0214075-089d-40ee-b822-53ae988ba476",
   "metadata": {},
   "outputs": [],
   "source": [
    "class Fish(Animal):\n",
    "    def __init__(self, species, age, colour, water_type):\n",
    "        super().__init__(species, \"\", age, colour)\n",
    "        self.water_type = water_type\n",
    "\n",
    "    def describe(self):\n",
    "        return f\"This is a {self.colour} {self.species} who is {self.age} years old, and lives in {self.water_type}\""
   ]
  },
  {
   "cell_type": "code",
   "execution_count": 7,
   "id": "87318f1f-d32a-4aae-9778-c2ae27a0092e",
   "metadata": {},
   "outputs": [
    {
     "data": {
      "text/plain": [
       "'This is a Yellow Gold Fish who is 5 years old, and lives in freshwater'"
      ]
     },
     "execution_count": 7,
     "metadata": {},
     "output_type": "execute_result"
    }
   ],
   "source": [
    "fish1 = Fish(\"Gold Fish\", 5, \"Yellow\", \"freshwater\")\n",
    "fish1.describe()"
   ]
  }
 ],
 "metadata": {
  "kernelspec": {
   "display_name": "Python 3 (ipykernel)",
   "language": "python",
   "name": "python3"
  },
  "language_info": {
   "codemirror_mode": {
    "name": "ipython",
    "version": 3
   },
   "file_extension": ".py",
   "mimetype": "text/x-python",
   "name": "python",
   "nbconvert_exporter": "python",
   "pygments_lexer": "ipython3",
   "version": "3.11.7"
  }
 },
 "nbformat": 4,
 "nbformat_minor": 5
}
