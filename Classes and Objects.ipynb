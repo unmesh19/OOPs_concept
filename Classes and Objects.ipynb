{
 "cells": [
  {
   "cell_type": "code",
   "execution_count": 1,
   "id": "6cf5caaa-27cd-4449-9ffc-d22090e15b3a",
   "metadata": {},
   "outputs": [],
   "source": [
    "class Animal:\n",
    "    def __init__(self, species, sound):\n",
    "        self.species = species\n",
    "        self.sound = sound\n",
    "\n",
    "    def make_sound(self):\n",
    "        return f\"The {self.species} makes {self.sound} sound\""
   ]
  },
  {
   "cell_type": "code",
   "execution_count": 2,
   "id": "91ecc0c3-dc8a-44c3-b97e-04b283c58370",
   "metadata": {},
   "outputs": [],
   "source": [
    "animal1 = Animal(\"Dog\", \"Bark\")"
   ]
  },
  {
   "cell_type": "code",
   "execution_count": 3,
   "id": "b3d4cc5f-0b57-4b92-bbfd-88c01637ca8c",
   "metadata": {},
   "outputs": [
    {
     "data": {
      "text/plain": [
       "'The Dog makes Bark sound'"
      ]
     },
     "execution_count": 3,
     "metadata": {},
     "output_type": "execute_result"
    }
   ],
   "source": [
    "animal1.make_sound()"
   ]
  },
  {
   "cell_type": "code",
   "execution_count": 4,
   "id": "e5605112-174c-40c7-ba13-20fed5a175c1",
   "metadata": {},
   "outputs": [],
   "source": [
    "class Animal:\n",
    "    def __init__(self, species, sound):\n",
    "        self.species = species\n",
    "        self.sound = sound\n",
    "\n",
    "    def make_sound(self):\n",
    "        return f\"The {self.species} makes {self.sound} sound\"\n",
    "\n",
    "    def describe(self):\n",
    "        return f\"This is a {self.species} that goes {self.sound}\""
   ]
  },
  {
   "cell_type": "code",
   "execution_count": 5,
   "id": "73bc5678-d107-410d-80cc-846667390e13",
   "metadata": {},
   "outputs": [],
   "source": [
    "animal2 =  Animal(\"Cat\", \"Meow\")"
   ]
  },
  {
   "cell_type": "code",
   "execution_count": 6,
   "id": "57a851fa-cd49-4b5d-b4a0-0149b7330fa1",
   "metadata": {},
   "outputs": [
    {
     "data": {
      "text/plain": [
       "'This is a Cat that goes Meow'"
      ]
     },
     "execution_count": 6,
     "metadata": {},
     "output_type": "execute_result"
    }
   ],
   "source": [
    "animal2.describe()"
   ]
  },
  {
   "cell_type": "code",
   "execution_count": 7,
   "id": "b57ba159-5e53-41ee-8d70-c67db70b40b3",
   "metadata": {},
   "outputs": [],
   "source": [
    "class Animal:\n",
    "    def __init__(self, species, sound, age):\n",
    "        self.species = species\n",
    "        self.sound = sound\n",
    "        self.age = age\n",
    "\n",
    "    def make_sound(self):\n",
    "        return f\"The {self.species} makes {self.sound} sound\"\n",
    "\n",
    "    def describe(self):\n",
    "        return f\"This is a {self.species} that goes {self.sound} and is {self.age} years old\""
   ]
  },
  {
   "cell_type": "code",
   "execution_count": 8,
   "id": "1f50d0a6-fd84-4666-a58b-2e8a24031d65",
   "metadata": {},
   "outputs": [],
   "source": [
    "animal3 = Animal(\"Monkey\", \"Bray\", 10)"
   ]
  },
  {
   "cell_type": "code",
   "execution_count": 9,
   "id": "a7661c7d-47d6-417f-8e42-d86e1d38d350",
   "metadata": {},
   "outputs": [
    {
     "data": {
      "text/plain": [
       "'This is a Monkey that goes Bray and is 10 years old'"
      ]
     },
     "execution_count": 9,
     "metadata": {},
     "output_type": "execute_result"
    }
   ],
   "source": [
    "animal3.describe()"
   ]
  },
  {
   "cell_type": "code",
   "execution_count": 10,
   "id": "65d20a1b-8960-49fb-8f4b-574a6a0114ac",
   "metadata": {},
   "outputs": [],
   "source": [
    "class Animal:\n",
    "    def __init__(self, species, sound, age, colour):\n",
    "        self.species = species\n",
    "        self.sound = sound\n",
    "        self.age = age\n",
    "        self.colour = colour\n",
    "\n",
    "    def make_sound(self):\n",
    "        return f\"The {self.species} makes {self.sound} sound\"\n",
    "\n",
    "    def describe(self):\n",
    "        return f\"This is a {self.colour} {self.species} that goes {self.sound} and is {self.age} years old\""
   ]
  },
  {
   "cell_type": "code",
   "execution_count": 11,
   "id": "e124968a-0dcd-49aa-a83e-c19887e967a2",
   "metadata": {},
   "outputs": [],
   "source": [
    "animal4 = Animal(\"Lion\", \"Roar\", 15, \"Yellow\")"
   ]
  },
  {
   "cell_type": "code",
   "execution_count": 12,
   "id": "390cb0d3-60aa-4eab-b708-2456b0e3afe9",
   "metadata": {},
   "outputs": [
    {
     "data": {
      "text/plain": [
       "'This is a Yellow Lion that goes Roar and is 15 years old'"
      ]
     },
     "execution_count": 12,
     "metadata": {},
     "output_type": "execute_result"
    }
   ],
   "source": [
    "animal4.describe()"
   ]
  }
 ],
 "metadata": {
  "kernelspec": {
   "display_name": "Python 3 (ipykernel)",
   "language": "python",
   "name": "python3"
  },
  "language_info": {
   "codemirror_mode": {
    "name": "ipython",
    "version": 3
   },
   "file_extension": ".py",
   "mimetype": "text/x-python",
   "name": "python",
   "nbconvert_exporter": "python",
   "pygments_lexer": "ipython3",
   "version": "3.11.7"
  }
 },
 "nbformat": 4,
 "nbformat_minor": 5
}
