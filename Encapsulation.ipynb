{
 "cells": [
  {
   "cell_type": "code",
   "execution_count": 1,
   "id": "1312e5da-241c-4c0b-9422-8bf6e1348344",
   "metadata": {},
   "outputs": [],
   "source": [
    "class Animal:\n",
    "    def __init__(self, species, sound, age):\n",
    "        self.species = species\n",
    "        self.sound = sound\n",
    "        self.__age = age\n",
    "\n",
    "    def describe(self):\n",
    "        return f\"This is a {self.species} that goes {self.sound} and is {self.get_age()} years old\"\n",
    "\n",
    "    def get_age(self):\n",
    "        return self.__age\n",
    "\n",
    "    def set_age(self, age):\n",
    "        self.__age = age"
   ]
  },
  {
   "cell_type": "code",
   "execution_count": 2,
   "id": "7bd23e9d-d156-41ef-80af-98a04c9f616f",
   "metadata": {},
   "outputs": [
    {
     "data": {
      "text/plain": [
       "'This is a Dog that goes Bark and is 5 years old'"
      ]
     },
     "execution_count": 2,
     "metadata": {},
     "output_type": "execute_result"
    }
   ],
   "source": [
    "animal1 = Animal(\"Dog\", \"Bark\", 5)\n",
    "animal1.describe()"
   ]
  },
  {
   "cell_type": "code",
   "execution_count": 3,
   "id": "bd2ce6e5-1cfc-4b08-85f2-192b50e5510c",
   "metadata": {},
   "outputs": [
    {
     "data": {
      "text/plain": [
       "'This is a Dog that goes Bark and is 6 years old'"
      ]
     },
     "execution_count": 3,
     "metadata": {},
     "output_type": "execute_result"
    }
   ],
   "source": [
    "animal1.set_age(6)\n",
    "animal1.describe()"
   ]
  },
  {
   "cell_type": "code",
   "execution_count": 4,
   "id": "b4af1215-8960-4da3-bbac-ffd4557d2e3a",
   "metadata": {},
   "outputs": [],
   "source": [
    "class Animal:\n",
    "    def __init__(self, species, sound, age):\n",
    "        self.__species = species\n",
    "        self.sound = sound\n",
    "        self.__age = age\n",
    "\n",
    "    def describe(self):\n",
    "        return f\"This is a {self.get_species()} that goes {self.sound} and is {self.get_age()} years old\"\n",
    "\n",
    "    def get_age(self):\n",
    "        return self.__age\n",
    "\n",
    "    def set_age(self, age):\n",
    "        self.__age = age\n",
    "\n",
    "    def get_species(self):\n",
    "        return self.__species\n",
    "\n",
    "    def set_species(self, species):\n",
    "        self.__species = species"
   ]
  },
  {
   "cell_type": "code",
   "execution_count": 5,
   "id": "066b550e-2049-42fa-a83f-2d6a967ef3c4",
   "metadata": {},
   "outputs": [
    {
     "data": {
      "text/plain": [
       "'This is a Cat that goes Meow and is 10 years old'"
      ]
     },
     "execution_count": 5,
     "metadata": {},
     "output_type": "execute_result"
    }
   ],
   "source": [
    "animal2 = Animal(\"Cat\", \"Meow\", 10)\n",
    "animal2.describe()"
   ]
  },
  {
   "cell_type": "code",
   "execution_count": 6,
   "id": "be8480b2-b98b-4dce-bee8-179f3efcf33c",
   "metadata": {},
   "outputs": [
    {
     "data": {
      "text/plain": [
       "'This is a Lion that goes Meow and is 10 years old'"
      ]
     },
     "execution_count": 6,
     "metadata": {},
     "output_type": "execute_result"
    }
   ],
   "source": [
    "animal2.set_species(\"Lion\")\n",
    "animal2.describe()"
   ]
  },
  {
   "cell_type": "code",
   "execution_count": 7,
   "id": "cf4a54bf-663c-4e95-8959-05feb423f4e1",
   "metadata": {},
   "outputs": [],
   "source": [
    "class Animal:\n",
    "    def __init__(self, species, sound, age):\n",
    "        self.__species = species\n",
    "        self.__sound = sound\n",
    "        self.__age = age\n",
    "\n",
    "    def describe(self):\n",
    "        return f\"This is a {self.get_species()} that goes {self.get_sound()} and is {self.get_age()} years old\"\n",
    "\n",
    "    def get_age(self):\n",
    "        return self.__age\n",
    "\n",
    "    def set_age(self, age):\n",
    "        self.__age = age\n",
    "\n",
    "    def get_species(self):\n",
    "        return self.__species\n",
    "\n",
    "    def set_species(self, species):\n",
    "        self.__species = species\n",
    "\n",
    "    def get_sound(self):\n",
    "        return self.__sound\n",
    "\n",
    "    def set_sound(self, sound):\n",
    "        self.__sound = sound"
   ]
  },
  {
   "cell_type": "code",
   "execution_count": 8,
   "id": "166b07b4-ea29-4c8f-9526-1a8cff84698f",
   "metadata": {},
   "outputs": [
    {
     "data": {
      "text/plain": [
       "'This is a Tiger that goes Roar and is 15 years old'"
      ]
     },
     "execution_count": 8,
     "metadata": {},
     "output_type": "execute_result"
    }
   ],
   "source": [
    "animal3 = Animal(\"Tiger\", \"Roar\", 15)\n",
    "animal3.describe()"
   ]
  },
  {
   "cell_type": "code",
   "execution_count": 9,
   "id": "8cff025a-1b0b-4356-9f08-426d3b074c0f",
   "metadata": {},
   "outputs": [
    {
     "data": {
      "text/plain": [
       "'This is a Tiger that goes Meow and is 15 years old'"
      ]
     },
     "execution_count": 9,
     "metadata": {},
     "output_type": "execute_result"
    }
   ],
   "source": [
    "animal3.set_sound(\"Meow\")\n",
    "animal3.describe()"
   ]
  },
  {
   "cell_type": "code",
   "execution_count": 10,
   "id": "6db5e7ea-a7e9-424a-928f-e1a7d8170f5a",
   "metadata": {},
   "outputs": [],
   "source": [
    "class Animal:\n",
    "    def __init__(self, species, sound, age, colour):\n",
    "        self.__species = species\n",
    "        self.__sound = sound\n",
    "        self.__age = age\n",
    "        self.__colour = colour\n",
    "\n",
    "    def describe(self):\n",
    "        return f\"This is a {self.get_colour()} {self.get_species()} that goes {self.get_sound()} and is {self.get_age()} years old\"\n",
    "\n",
    "    def get_age(self):\n",
    "        return self.__age\n",
    "\n",
    "    def set_age(self, age):\n",
    "        self.__age = age\n",
    "\n",
    "    def get_species(self):\n",
    "        return self.__species\n",
    "\n",
    "    def set_species(self, species):\n",
    "        self.__species = species\n",
    "\n",
    "    def get_sound(self):\n",
    "        return self.__sound\n",
    "\n",
    "    def set_sound(self, sound):\n",
    "        self.__sound = sound\n",
    "\n",
    "    def get_colour(self):\n",
    "        return self.__colour\n",
    "\n",
    "    def set_colour(self, colour):\n",
    "        self.__colour = colour"
   ]
  },
  {
   "cell_type": "code",
   "execution_count": 11,
   "id": "f2eaa81d-611b-441d-878e-b9bbe8ad585a",
   "metadata": {},
   "outputs": [
    {
     "data": {
      "text/plain": [
       "'This is a Red Monkey that goes Bray and is 15 years old'"
      ]
     },
     "execution_count": 11,
     "metadata": {},
     "output_type": "execute_result"
    }
   ],
   "source": [
    "animal4 = Animal(\"Monkey\", \"Bray\", 15, \"Red\")\n",
    "animal4.describe()"
   ]
  },
  {
   "cell_type": "code",
   "execution_count": 12,
   "id": "88a5485f-0213-4c7f-84a7-a0db7c06e7a2",
   "metadata": {},
   "outputs": [
    {
     "data": {
      "text/plain": [
       "'This is a White Monkey that goes Bray and is 15 years old'"
      ]
     },
     "execution_count": 12,
     "metadata": {},
     "output_type": "execute_result"
    }
   ],
   "source": [
    "animal4.set_colour(\"White\")\n",
    "animal4.describe()"
   ]
  },
  {
   "cell_type": "code",
   "execution_count": 13,
   "id": "2299c75f-9338-46a4-92a4-899bb34d05d0",
   "metadata": {},
   "outputs": [],
   "source": [
    "class Animal:\n",
    "\n",
    "    animal_count = 0\n",
    "    \n",
    "    def __init__(self, species, sound, age, colour):\n",
    "        self.__species = species\n",
    "        self.__sound = sound\n",
    "        self.__age = age\n",
    "        self.__colour = colour\n",
    "\n",
    "        Animal.animal_count += 1\n",
    "\n",
    "    def describe(self):\n",
    "        return f\"This is a {self.get_colour()} {self.get_species()} that goes {self.get_sound()} and is {self.get_age()} years old\"\n",
    "\n",
    "    def get_age(self):\n",
    "        return self.__age\n",
    "\n",
    "    def set_age(self, age):\n",
    "        self.__age = age\n",
    "\n",
    "    def get_species(self):\n",
    "        return self.__species\n",
    "\n",
    "    def set_species(self, species):\n",
    "        self.__species = species\n",
    "\n",
    "    def get_sound(self):\n",
    "        return self.__sound\n",
    "\n",
    "    def set_sound(self, sound):\n",
    "        self.__sound = sound\n",
    "\n",
    "    def get_colour(self):\n",
    "        return self.__colour\n",
    "\n",
    "    def set_colour(self, colour):\n",
    "        self.__colour = colour\n",
    "\n",
    "    @classmethod\n",
    "    def get_animal_count(cls):\n",
    "        return cls.animal_count"
   ]
  },
  {
   "cell_type": "code",
   "execution_count": 14,
   "id": "5264a861-52e6-43eb-ae45-98f121a1610b",
   "metadata": {},
   "outputs": [],
   "source": [
    "animal1 = Animal(\"Dog\", \"Bark\", 5, \"White\")\n",
    "animal2 = Animal(\"Cat\", \"Meow\", 10, \"Black\")\n",
    "animal3 = Animal(\"Tiger\", \"Roar\", 15, \"Yellow\")\n",
    "animal4 = Animal(\"Monkey\", \"Bray\", 15, \"Red\")"
   ]
  },
  {
   "cell_type": "code",
   "execution_count": 15,
   "id": "ae015cb3-1ab3-428a-822c-1f54c3c96d9c",
   "metadata": {},
   "outputs": [
    {
     "data": {
      "text/plain": [
       "4"
      ]
     },
     "execution_count": 15,
     "metadata": {},
     "output_type": "execute_result"
    }
   ],
   "source": [
    "Animal.get_animal_count()"
   ]
  }
 ],
 "metadata": {
  "kernelspec": {
   "display_name": "Python 3 (ipykernel)",
   "language": "python",
   "name": "python3"
  },
  "language_info": {
   "codemirror_mode": {
    "name": "ipython",
    "version": 3
   },
   "file_extension": ".py",
   "mimetype": "text/x-python",
   "name": "python",
   "nbconvert_exporter": "python",
   "pygments_lexer": "ipython3",
   "version": "3.11.7"
  }
 },
 "nbformat": 4,
 "nbformat_minor": 5
}
