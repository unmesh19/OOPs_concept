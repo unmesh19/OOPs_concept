{
 "cells": [
  {
   "cell_type": "code",
   "execution_count": 1,
   "id": "eeb857fd-5b46-431b-af63-e7769ab4f241",
   "metadata": {},
   "outputs": [],
   "source": [
    "from abc import ABC, abstractmethod"
   ]
  },
  {
   "cell_type": "code",
   "execution_count": 2,
   "id": "502d3c59-dacf-4047-ab87-61c48b18ad14",
   "metadata": {},
   "outputs": [],
   "source": [
    "class Animal(ABC):\n",
    "    def __init__(self, species, age, colour):\n",
    "        self.species = species\n",
    "        self.age = age\n",
    "        self.colour = colour\n",
    "\n",
    "    @abstractmethod\n",
    "    def make_sound(self):\n",
    "        pass\n",
    "\n",
    "    @abstractmethod\n",
    "    def describe(self):\n",
    "        pass"
   ]
  },
  {
   "cell_type": "code",
   "execution_count": 3,
   "id": "99efa969-c8c3-4779-a18f-80df292b3d9b",
   "metadata": {},
   "outputs": [],
   "source": [
    "class WildAnimal(Animal):\n",
    "    def __init__(self, species, age, colour, habitat):\n",
    "        super().__init__(species, age, colour)\n",
    "        self.habitat = habitat\n",
    "\n",
    "    def make_sound(self):\n",
    "        return f\"The {self.species} roars!\"\n",
    "\n",
    "    def describe(self):\n",
    "        return f\"This is a {self.colour} {self.species} that is {self.age} years old and lives in {self.habitat}\""
   ]
  },
  {
   "cell_type": "code",
   "execution_count": 4,
   "id": "0efc5701-023f-4427-9826-112ccf21e992",
   "metadata": {},
   "outputs": [
    {
     "name": "stdout",
     "output_type": "stream",
     "text": [
      "The Lion roars!\n",
      "This is a Golden Lion that is 8 years old and lives in Savanna\n"
     ]
    }
   ],
   "source": [
    "lion = WildAnimal(\"Lion\", 8, \"Golden\", \"Savanna\")\n",
    "print(lion.make_sound())\n",
    "print(lion.describe())"
   ]
  },
  {
   "cell_type": "code",
   "execution_count": 5,
   "id": "6f0ddc8a-96ad-430f-97d3-2f50a1dc7c87",
   "metadata": {},
   "outputs": [
    {
     "name": "stdout",
     "output_type": "stream",
     "text": [
      "The Tiger roars!\n",
      "This is a Orange and Black Tiger that is 5 years old and lives in Jungle\n"
     ]
    }
   ],
   "source": [
    "tiger = WildAnimal(\"Tiger\", 5, \"Orange and Black\", \"Jungle\")\n",
    "print(tiger.make_sound())\n",
    "print(tiger.describe())"
   ]
  },
  {
   "cell_type": "code",
   "execution_count": 6,
   "id": "92534d4b",
   "metadata": {},
   "outputs": [],
   "source": [
    "class Bird(Animal):\n",
    "    def __init__(self, species, age, colour, wing_span):\n",
    "        super().__init__(species, age, colour)\n",
    "        self.wing_span = wing_span\n",
    "\n",
    "    def make_sound(self):\n",
    "        return f\"The {self.species} chirps or squawks!\"\n",
    "\n",
    "    def describe(self):\n",
    "        return f\"This is a {self.colour} {self.species} that is {self.age} years old and has a wing span of {self.wing_span}\""
   ]
  },
  {
   "cell_type": "code",
   "execution_count": 7,
   "id": "e6c47166-0a80-4858-af63-2ba3ed4366fd",
   "metadata": {},
   "outputs": [
    {
     "name": "stdout",
     "output_type": "stream",
     "text": [
      "The Parrot chirps or squawks!\n",
      "This is a Green Parrot that is 2 years old and has a wing span of 25 cm\n"
     ]
    }
   ],
   "source": [
    "parrot = Bird(\"Parrot\", 2, \"Green\", \"25 cm\")\n",
    "print(parrot.make_sound())\n",
    "print(parrot.describe())"
   ]
  },
  {
   "cell_type": "code",
   "execution_count": 8,
   "id": "2744d2a6-3607-4e81-a749-83726c6aaf71",
   "metadata": {},
   "outputs": [
    {
     "name": "stdout",
     "output_type": "stream",
     "text": [
      "The Eagle chirps or squawks!\n",
      "This is a Brown Eagle that is 4 years old and has a wing span of 2 meters\n"
     ]
    }
   ],
   "source": [
    "eagle = Bird(\"Eagle\", 4, \"Brown\", \"2 meters\")\n",
    "print(eagle.make_sound())\n",
    "print(eagle.describe())"
   ]
  },
  {
   "cell_type": "code",
   "execution_count": 9,
   "id": "704e56c5-e9ea-49df-86fe-cd05227d161f",
   "metadata": {},
   "outputs": [],
   "source": [
    "class Fish(Animal):\n",
    "    def __init__(self, species, age, colour, water_type):\n",
    "        super().__init__(species, age, colour)\n",
    "        self.water_type = water_type\n",
    "\n",
    "    def make_sound(self):\n",
    "        print(\"Fish doesn't make sound\")\n",
    "\n",
    "    def describe(self):\n",
    "        return f\"This is a {self.colour} {self.species} that is {self.age} years old and lives in {self.water_type}\""
   ]
  },
  {
   "cell_type": "code",
   "execution_count": 10,
   "id": "f9a2d5b0-2349-4267-9367-057666ea7fb8",
   "metadata": {},
   "outputs": [
    {
     "name": "stdout",
     "output_type": "stream",
     "text": [
      "Fish doesn't make sound\n",
      "This is a Gold Goldfish that is 1 years old and lives in freshwater\n"
     ]
    }
   ],
   "source": [
    "goldfish = Fish(\"Goldfish\", 1, \"Gold\", \"freshwater\")\n",
    "goldfish.make_sound()\n",
    "print(goldfish.describe())"
   ]
  },
  {
   "cell_type": "code",
   "execution_count": 11,
   "id": "ea368d3f-a680-41e4-809c-4b5379b6dcb1",
   "metadata": {},
   "outputs": [
    {
     "name": "stdout",
     "output_type": "stream",
     "text": [
      "Fish doesn't make sound\n",
      "This is a Gray Shark that is 12 years old and lives in saltwater\n"
     ]
    }
   ],
   "source": [
    "shark = Fish(\"Shark\", 12, \"Gray\", \"saltwater\")\n",
    "shark.make_sound()\n",
    "print(shark.describe()) "
   ]
  }
 ],
 "metadata": {
  "kernelspec": {
   "display_name": "Python 3 (ipykernel)",
   "language": "python",
   "name": "python3"
  },
  "language_info": {
   "codemirror_mode": {
    "name": "ipython",
    "version": 3
   },
   "file_extension": ".py",
   "mimetype": "text/x-python",
   "name": "python",
   "nbconvert_exporter": "python",
   "pygments_lexer": "ipython3",
   "version": "3.11.7"
  }
 },
 "nbformat": 4,
 "nbformat_minor": 5
}
