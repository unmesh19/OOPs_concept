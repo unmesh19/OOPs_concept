{
 "cells": [
  {
   "cell_type": "code",
   "execution_count": 1,
   "id": "0d3756a5-8dfe-4165-ac97-ec08b837671d",
   "metadata": {},
   "outputs": [],
   "source": [
    "class Animal:\n",
    "    def __init__(self, species, sound, age, colour):\n",
    "        self.species = species\n",
    "        self.sound = sound\n",
    "        self.age = age\n",
    "        self.colour = colour\n",
    "\n",
    "    def make_sound(self):\n",
    "        return f\"The {self.species} makes {self.sound} sound\"\n",
    "\n",
    "    def describe(self):\n",
    "        return f\"This is a {self.colour} {self.species} that goes {self.sound} and is {self.age} years old\"\n",
    "\n",
    "    def describe_sound(self):\n",
    "        return f\"The {self.species} that goes {self.sound}\""
   ]
  },
  {
   "cell_type": "code",
   "execution_count": 2,
   "id": "5953ed4c-3a7c-403d-9129-70df5fcaa74c",
   "metadata": {},
   "outputs": [],
   "source": [
    "class WildAnimal(Animal):\n",
    "    def __init__(self, species, sound, age, colour, habitat):\n",
    "        super().__init__(species, sound, age, colour)\n",
    "        self.habitat = habitat\n",
    "\n",
    "    def describe(self):\n",
    "        return f\"This is a {self.colour} {self.species} that goes {self.sound} and is {self.age} years old, and lives in {self.habitat}\""
   ]
  },
  {
   "cell_type": "code",
   "execution_count": 3,
   "id": "455b1ac1-8bf1-435f-b835-07bdeff28442",
   "metadata": {},
   "outputs": [],
   "source": [
    "class Bird(Animal):\n",
    "    def __init__(self, species, sound, age, colour, wing_span):\n",
    "        super().__init__(species, sound, age, colour)\n",
    "        self.wing_span = wing_span\n",
    "\n",
    "    def describe(self):\n",
    "        return f\"This is a {self.colour} {self.species} that goes {self.sound} and is {self.age} years old, and has a wing span of {self.wing_span}\""
   ]
  },
  {
   "cell_type": "code",
   "execution_count": 4,
   "id": "2005c720-2b98-4252-84cc-36ce83dc1c5f",
   "metadata": {},
   "outputs": [],
   "source": [
    "class Fish(Animal):\n",
    "    def __init__(self, species, age, colour, water_type):\n",
    "        super().__init__(species, \"\", age, colour)\n",
    "        self.water_type = water_type\n",
    "\n",
    "    def describe(self):\n",
    "        return f\"This is a {self.colour} {self.species} who is {self.age} years old, and lives in {self.water_type}\"\n",
    "\n",
    "    def describe_sound(self):\n",
    "        return \"Fish does not make sound.\""
   ]
  },
  {
   "cell_type": "code",
   "execution_count": 5,
   "id": "bcaf88b1-694c-46e9-9a8f-a3e791674167",
   "metadata": {},
   "outputs": [
    {
     "data": {
      "text/plain": [
       "'This is a Yellow Gold Fish who is 5 years old, and lives in freshwater'"
      ]
     },
     "execution_count": 5,
     "metadata": {},
     "output_type": "execute_result"
    }
   ],
   "source": [
    "fish1 = Fish(\"Gold Fish\", 5, \"Yellow\", \"freshwater\")\n",
    "fish1.describe()"
   ]
  },
  {
   "cell_type": "code",
   "execution_count": 6,
   "id": "c6098f37-f4e5-43b5-996e-59c87233ab0c",
   "metadata": {},
   "outputs": [
    {
     "data": {
      "text/plain": [
       "'Fish does not make sound.'"
      ]
     },
     "execution_count": 6,
     "metadata": {},
     "output_type": "execute_result"
    }
   ],
   "source": [
    "fish1.describe_sound()"
   ]
  },
  {
   "cell_type": "code",
   "execution_count": 7,
   "id": "6e4dbcf3-b2fa-4c00-b8e3-a0ed437d07d1",
   "metadata": {},
   "outputs": [],
   "source": [
    "dog = Animal(\"Dog\", \"Barks\", 3, \"Brown\")\n",
    "lion = WildAnimal(\"Lion\", \"Roar\", 5, \"Golden\", \"Savanna\")\n",
    "parrot = Bird(\"Parrot\", \"Squawk\", 2, \"Green\", \"25 cm\")\n",
    "goldfish = Fish(\"Goldfish\", 1, \"Gold\", \"freshwater\")"
   ]
  },
  {
   "cell_type": "code",
   "execution_count": 8,
   "id": "e51db33f-d358-4ce0-bce2-f69e07c3d309",
   "metadata": {},
   "outputs": [],
   "source": [
    "animals = [dog, lion, parrot, goldfish]"
   ]
  },
  {
   "cell_type": "code",
   "execution_count": 9,
   "id": "5e065a73-f012-4ecd-aefd-4d1628d9a3a6",
   "metadata": {},
   "outputs": [
    {
     "name": "stdout",
     "output_type": "stream",
     "text": [
      "This is a Brown Dog that goes Barks and is 3 years old\n",
      "This is a Golden Lion that goes Roar and is 5 years old, and lives in Savanna\n",
      "This is a Green Parrot that goes Squawk and is 2 years old, and has a wing span of 25 cm\n",
      "This is a Gold Goldfish who is 1 years old, and lives in freshwater\n"
     ]
    }
   ],
   "source": [
    "for animal in animals:\n",
    "    print(animal.describe())"
   ]
  }
 ],
 "metadata": {
  "kernelspec": {
   "display_name": "Python 3 (ipykernel)",
   "language": "python",
   "name": "python3"
  },
  "language_info": {
   "codemirror_mode": {
    "name": "ipython",
    "version": 3
   },
   "file_extension": ".py",
   "mimetype": "text/x-python",
   "name": "python",
   "nbconvert_exporter": "python",
   "pygments_lexer": "ipython3",
   "version": "3.11.7"
  }
 },
 "nbformat": 4,
 "nbformat_minor": 5
}
